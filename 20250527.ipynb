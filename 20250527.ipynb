{
 "cells": [
  {
   "cell_type": "code",
   "execution_count": null,
   "id": "648d98d2",
   "metadata": {},
   "outputs": [],
   "source": [
    "# 반복문 한번 n\n",
    "# 반복문 두번 n*n\n",
    "# 반복문 세번 n*n*n --> 거의 코테 사용X\n",
    "for x in range(100):\n",
    "    for y in range(100):\n",
    "        for z in range(100):\n",
    "            pass"
   ]
  },
  {
   "cell_type": "code",
   "execution_count": null,
   "id": "1c5542e4",
   "metadata": {},
   "outputs": [],
   "source": [
    "def fibonacci_recursive(n: int) -> int:\n",
    "    \"\"\"\n",
    "    n번째 피보나치 수를 재귀적으로 계산하여 반환합니다.\n",
    "    (F(0)=0, F(1)=1 기준)\n",
    "\n",
    "    주의: 이 순수 재귀 방식은 n이 커질수록 동일한 계산을 반복하여\n",
    "          매우 비효율적입니다 (시간 복잡도 O(2^n)).\n",
    "          실제 사용 시에는 메모이제이션(동적 프로그래밍)을 사용한 최적화가 필요합니다.\n",
    "    \"\"\"\n",
    "    if not isinstance(n, int) or n < 0:\n",
    "        raise ValueError(\"입력값은 0 이상의 정수여야 합니다.\")  # 일부로 에러를 일으키는 raise\n",
    "    if n <= 1:  # 기본 조건: F(0) = 0, F(1) = 1\n",
    "        return n\n",
    "    else:\n",
    "        # F(n) = F(n-1) + F(n-2)\n",
    "        return fibonacci_recursive(n - 1) + fibonacci_recursive(n - 2)"
   ]
  },
  {
   "cell_type": "code",
   "execution_count": 3,
   "id": "3263382b",
   "metadata": {},
   "outputs": [
    {
     "name": "stdout",
     "output_type": "stream",
     "text": [
      "Help on function fibonacci_recursive in module __main__:\n",
      "\n",
      "fibonacci_recursive(n: int) -> int\n",
      "    n번째 피보나치 수를 재귀적으로 계산하여 반환합니다.\n",
      "    (F(0)=0, F(1)=1 기준)\n",
      "    \n",
      "    주의: 이 순수 재귀 방식은 n이 커질수록 동일한 계산을 반복하여\n",
      "          매우 비효율적입니다 (시간 복잡도 O(2^n)).\n",
      "          실제 사용 시에는 메모이제이션(동적 프로그래밍)을 사용한 최적화가 필요합니다.\n",
      "\n"
     ]
    }
   ],
   "source": [
    "help(fibonacci_recursive)"
   ]
  },
  {
   "cell_type": "code",
   "execution_count": null,
   "id": "2deb6d46",
   "metadata": {},
   "outputs": [],
   "source": [
    "fibonacci_recursive(\"a\")"
   ]
  },
  {
   "cell_type": "code",
   "execution_count": null,
   "id": "4433dcae",
   "metadata": {},
   "outputs": [],
   "source": [
    "import numpy as np #분석이나 AI 파이썬 활용하게 해줌줌"
   ]
  },
  {
   "cell_type": "code",
   "execution_count": 8,
   "id": "46920778",
   "metadata": {},
   "outputs": [
    {
     "data": {
      "text/plain": [
       "array([ 2,  4,  6,  8, 10])"
      ]
     },
     "execution_count": 8,
     "metadata": {},
     "output_type": "execute_result"
    }
   ],
   "source": [
    "np.array([1,2,3,4,5]) * 2"
   ]
  },
  {
   "cell_type": "code",
   "execution_count": 9,
   "id": "7d6e1f22",
   "metadata": {},
   "outputs": [
    {
     "data": {
      "text/plain": [
       "1"
      ]
     },
     "execution_count": 9,
     "metadata": {},
     "output_type": "execute_result"
    }
   ],
   "source": [
    "np.arange(20).ndim"
   ]
  },
  {
   "cell_type": "code",
   "execution_count": 10,
   "id": "620576b3",
   "metadata": {},
   "outputs": [
    {
     "data": {
      "text/plain": [
       "(20,)"
      ]
     },
     "execution_count": 10,
     "metadata": {},
     "output_type": "execute_result"
    }
   ],
   "source": [
    "np.arange(20).shape"
   ]
  },
  {
   "cell_type": "code",
   "execution_count": null,
   "id": "4590bd08",
   "metadata": {},
   "outputs": [
    {
     "data": {
      "text/plain": [
       "array([[ 0,  1,  2,  3,  4],\n",
       "       [ 5,  6,  7,  8,  9],\n",
       "       [10, 11, 12, 13, 14],\n",
       "       [15, 16, 17, 18, 19]])"
      ]
     },
     "execution_count": 11,
     "metadata": {},
     "output_type": "execute_result"
    }
   ],
   "source": [
    "np.arange(20).reshape(4,5) # 행,열"
   ]
  },
  {
   "cell_type": "code",
   "execution_count": 12,
   "id": "2210da0c",
   "metadata": {},
   "outputs": [
    {
     "data": {
      "text/plain": [
       "array([[[ 0,  1,  2,  3,  4],\n",
       "        [ 5,  6,  7,  8,  9],\n",
       "        [10, 11, 12, 13, 14],\n",
       "        [15, 16, 17, 18, 19]]])"
      ]
     },
     "execution_count": 12,
     "metadata": {},
     "output_type": "execute_result"
    }
   ],
   "source": [
    "np.arange(20).reshape(-1,4,5)"
   ]
  },
  {
   "cell_type": "code",
   "execution_count": 13,
   "id": "e4ac9caa",
   "metadata": {},
   "outputs": [],
   "source": [
    "# 컬러(RGB) 사진은 3차원 흑백은 2차원"
   ]
  },
  {
   "cell_type": "code",
   "execution_count": 14,
   "id": "f080f43c",
   "metadata": {},
   "outputs": [
    {
     "data": {
      "text/plain": [
       "array([[ 0,  1,  2,  3,  4,  5,  6,  7,  8,  9],\n",
       "       [10, 11, 12, 13, 14, 15, 16, 17, 18, 19]])"
      ]
     },
     "execution_count": 14,
     "metadata": {},
     "output_type": "execute_result"
    }
   ],
   "source": [
    "np.arange(20).reshape(2,10)"
   ]
  },
  {
   "cell_type": "code",
   "execution_count": 15,
   "id": "8d9d58de",
   "metadata": {},
   "outputs": [
    {
     "data": {
      "text/plain": [
       "array([[ 0,  1,  2,  3],\n",
       "       [ 4,  5,  6,  7],\n",
       "       [ 8,  9, 10, 11],\n",
       "       [12, 13, 14, 15],\n",
       "       [16, 17, 18, 19]])"
      ]
     },
     "execution_count": 15,
     "metadata": {},
     "output_type": "execute_result"
    }
   ],
   "source": [
    "np.arange(20).reshape(5,4)\n",
    "np.arange(20).reshape(-1,4) # 뒤에 4가 있으면 결국 5밖에 들어가지 못한다."
   ]
  },
  {
   "cell_type": "code",
   "execution_count": 16,
   "id": "d879e16b",
   "metadata": {},
   "outputs": [
    {
     "data": {
      "text/plain": [
       "45.0"
      ]
     },
     "execution_count": 16,
     "metadata": {},
     "output_type": "execute_result"
    }
   ],
   "source": [
    "a = [10, 20, 30, 40, 50, 60, 70, 80]\n",
    "sum(a)/len(a) #평균"
   ]
  },
  {
   "cell_type": "code",
   "execution_count": null,
   "id": "a59db12c",
   "metadata": {},
   "outputs": [
    {
     "data": {
      "text/plain": [
       "np.float64(45.0)"
      ]
     },
     "execution_count": 17,
     "metadata": {},
     "output_type": "execute_result"
    }
   ],
   "source": [
    "np.mean(a) # 평균"
   ]
  },
  {
   "cell_type": "code",
   "execution_count": null,
   "id": "4e438220",
   "metadata": {},
   "outputs": [
    {
     "data": {
      "text/plain": [
       "np.float64(525.0)"
      ]
     },
     "execution_count": 18,
     "metadata": {},
     "output_type": "execute_result"
    }
   ],
   "source": [
    "# 분산\n",
    "np.var(a)"
   ]
  },
  {
   "cell_type": "code",
   "execution_count": null,
   "id": "6e25dc65",
   "metadata": {},
   "outputs": [
    {
     "data": {
      "text/plain": [
       "np.float64(22.9128784747792)"
      ]
     },
     "execution_count": 19,
     "metadata": {},
     "output_type": "execute_result"
    }
   ],
   "source": [
    "# 표준편차\n",
    "np.std(a)"
   ]
  },
  {
   "cell_type": "code",
   "execution_count": 20,
   "id": "dbcb094b",
   "metadata": {},
   "outputs": [],
   "source": [
    "import zipfile"
   ]
  },
  {
   "cell_type": "code",
   "execution_count": 23,
   "id": "05c699c9",
   "metadata": {},
   "outputs": [],
   "source": [
    "with zipfile.ZipFile(\"./이름_생년_성별_10000.zip\") as f:\n",
    "    f.extractall(\"./name\")"
   ]
  },
  {
   "cell_type": "code",
   "execution_count": 24,
   "id": "8db99958",
   "metadata": {},
   "outputs": [],
   "source": [
    "import os, shutil, pathlib"
   ]
  },
  {
   "cell_type": "code",
   "execution_count": null,
   "id": "c1c3ba61",
   "metadata": {},
   "outputs": [],
   "source": [
    "f = open(\"./myfilelist.txt\", \"w\", encoding='utf-8')\n",
    "for roots, dirs, files in os.walk(\"c:/windows/\"):\n",
    "    for file in files:\n",
    "        print(f\"{roots}{file}\")\n",
    "f.close()"
   ]
  },
  {
   "cell_type": "code",
   "execution_count": 29,
   "id": "efcc645a",
   "metadata": {},
   "outputs": [],
   "source": [
    "# os.mkdir(\"./customer/male\") # customer 경로까지 없으면 에러\n",
    "pathlib.Path(\"./customer/male\").mkdir(parents=True, exist_ok=True)\n",
    "pathlib.Path(\"./customer/female\").mkdir(parents=True, exist_ok=True)\n",
    "male = []\n",
    "female = []\n",
    "for file in os.listdir(\"./name\"):\n",
    "    if file.split(\"_\")[-1][0] in ['1', '3']:\n",
    "        with open(f\"./name/{file}\", \"r\") as f:\n",
    "            male.append((int(f.read().replace(\",\", \"\"))))\n",
    "        shutil.move(f\"./name/{file}\", f\"./customer/male/{file}\")\n",
    "    elif file.split(\"_\")[-1][0] in ['2', '4']:\n",
    "        with open(f\"./name/{file}\", \"r\") as f:\n",
    "            female.append((int(f.read().replace(\",\", \"\"))))\n",
    "        shutil.move(f\"./name/{file}\", f\"./customer/female/{file}\")\n",
    "    else:\n",
    "        print(\"잘못된 파일입니다.\")"
   ]
  },
  {
   "cell_type": "code",
   "execution_count": 30,
   "id": "539aecee",
   "metadata": {},
   "outputs": [
    {
     "data": {
      "text/plain": [
       "np.float64(12802368.483323347)"
      ]
     },
     "execution_count": 30,
     "metadata": {},
     "output_type": "execute_result"
    }
   ],
   "source": [
    "np.mean(female)"
   ]
  },
  {
   "cell_type": "code",
   "execution_count": 31,
   "id": "bf6b4bac",
   "metadata": {},
   "outputs": [
    {
     "data": {
      "text/plain": [
       "np.float64(11900177.712397356)"
      ]
     },
     "execution_count": 31,
     "metadata": {},
     "output_type": "execute_result"
    }
   ],
   "source": [
    "np.mean(male)"
   ]
  },
  {
   "cell_type": "code",
   "execution_count": null,
   "id": "473146df",
   "metadata": {},
   "outputs": [],
   "source": [
    "# 종목코드, 시작날짜, 종료날짜, 경로를 값을 받아 파일을 저장\n",
    "# 이 때, 파일명은 코드명code.csv파일로 저장장\n",
    "import requests\n",
    "from xml.etree import ElementTree as ET\n",
    "import os\n",
    "import pandas as pd\n",
    "\n",
    "def saveStockInfoToCSV(symbol, startdate, enddate, path='./'):\n",
    "    url = f\"https://m.stock.naver.com/front-api/external/chart/domestic/notice?symbol={symbol}&startTime={startdate}&endTime={enddate}&requestType=0\"\n",
    "\n",
    "    data = requests.get(url).text\n",
    "    root = ET.fromstring(data)\n",
    "    #items = root.iter(tag='item')\n",
    "\n",
    "    total = [{'date' : i.get('date'), 'information' : x.text} for i in root.iter(tag='item') for x in i]\n",
    "\n",
    "    if not os.path.isdir(f\"{path}\" ):\n",
    "        os.mkdir(f\"{path}\")\n",
    "    pd.DataFrame(total).to_csv(f\"{path}{symbol}.csv\", index=False)\n",
    "\n",
    "saveStockInfoToCSV('012450', '20240101', '20250520')\n",
    "saveStockInfoToCSV('035720', '20211201', '20230120', './stock/')"
   ]
  }
 ],
 "metadata": {
  "kernelspec": {
   "display_name": "base",
   "language": "python",
   "name": "python3"
  },
  "language_info": {
   "codemirror_mode": {
    "name": "ipython",
    "version": 3
   },
   "file_extension": ".py",
   "mimetype": "text/x-python",
   "name": "python",
   "nbconvert_exporter": "python",
   "pygments_lexer": "ipython3",
   "version": "3.10.16"
  }
 },
 "nbformat": 4,
 "nbformat_minor": 5
}
