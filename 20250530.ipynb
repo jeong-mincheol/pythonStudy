{
 "cells": [
  {
   "cell_type": "code",
   "execution_count": 1,
   "id": "c982123c",
   "metadata": {},
   "outputs": [],
   "source": [
    "import numpy as np\n",
    "import pandas as pd"
   ]
  },
  {
   "cell_type": "code",
   "execution_count": null,
   "id": "e92539d4",
   "metadata": {},
   "outputs": [
    {
     "data": {
      "text/plain": [
       "np.float64(5.5)"
      ]
     },
     "execution_count": 2,
     "metadata": {},
     "output_type": "execute_result"
    }
   ],
   "source": [
    "np.arange(1,11).mean() # numpy 평균\n",
    "np.arange(1,11).var() # numpy 분산도"
   ]
  },
  {
   "cell_type": "code",
   "execution_count": 6,
   "id": "8add81bc",
   "metadata": {},
   "outputs": [
    {
     "data": {
      "text/plain": [
       "np.float64(9.166666666666666)"
      ]
     },
     "execution_count": 6,
     "metadata": {},
     "output_type": "execute_result"
    }
   ],
   "source": [
    "np.sum((np.arange(1,11) - np.arange(1,11).mean())**2)/9"
   ]
  },
  {
   "cell_type": "code",
   "execution_count": null,
   "id": "7efb7ba6",
   "metadata": {},
   "outputs": [
    {
     "data": {
      "text/plain": [
       "np.float64(8.25)"
      ]
     },
     "execution_count": 3,
     "metadata": {},
     "output_type": "execute_result"
    }
   ],
   "source": [
    "pd.DataFrame(data=range(1,11)).mean() # pandas 평균\n",
    "pd.DataFrame(data=range(1,11)).var() # pandas 분산도"
   ]
  },
  {
   "cell_type": "code",
   "execution_count": null,
   "id": "1618d336",
   "metadata": {},
   "outputs": [],
   "source": [
    "import requests\n",
    "import pymysql\n",
    "\n",
    "url = \"http://data.krx.co.kr/comm/bldAttendant/getJsonData.cmd\"\n",
    "\n",
    "payload={\"bld\":\"dbms/MDC/STAT/standard/MDCSTAT01901\",\n",
    "\"locale\":\"ko_KR\",\n",
    "\"mktId\":\"ALL\",\n",
    "\"share\":\"1\",\n",
    "\"csvxls_isNo\":\"false\",}\n",
    "\n",
    "request_headers = {\n",
    "    \"Accept\": \"application/json, text/javascript, */*; q=0.01\",\n",
    "    \"Accept-Encoding\": \"gzip, deflate\",\n",
    "    \"Accept-Language\": \"ko-KR,ko;q=0.9,en-US;q=0.8,en;q=0.7\",\n",
    "    \"Connection\": \"keep-alive\",\n",
    "    \"Content-Length\": \"88\",\n",
    "    \"Content-Type\": \"application/x-www-form-urlencoded; charset=UTF-8\",\n",
    "    \"Host\": \"data.krx.co.kr\",\n",
    "    \"Origin\": \"http://data.krx.co.kr\",\n",
    "    \"Referer\": \"http://data.krx.co.kr/contents/MDC/MDI/mdiLoader/index.cmd?menuId=MDC0201020101\",\n",
    "    \"User-Agent\": \"Mozilla/5.0 (Windows NT 10.0; Win64; x64) AppleWebKit/537.36 (KHTML, like Gecko) Chrome/137.0.0.0 Safari/537.36\",\n",
    "    \"X-Requested-With\": \"XMLHttpRequest\"\n",
    "}\n",
    "r= requests.post(url, data=payload, headers=request_headers)\n",
    "\n",
    "data = r.json()['OutBlock_1']\n",
    "\n",
    "conn = pymysql.connect(host='127.0.0.1', user='play', passwd='123', database='sk17', port=3306)\n",
    "cur = conn.cursor()\n",
    "\n",
    "sql = \"INSERT INTO st_master VALUES (%s, %s, %s, %s, %s, %s, %s, %s, %s, %s, %s, %s)\"\n",
    "\n",
    "for x in data:\n",
    "    #cur.execute(sql, list(x.values()))\n",
    "    ISU_CD, ISU_SRT_CD, ISU_NM, ISU_ABBRV, ISU_ENG_NM, LIST_DD, MKT_TP_NM, SECUGRP_NM, SECT_TP_NM, KIND_STKCERT_TP_NM, PARVAL, LIST_SHRS = x.values()\n",
    "    LIST_SHRS = LIST_SHRS.replace(\",\", \"\")\n",
    "    PARVAL = None if PARVAL == \"무액면\" else PARVAL.replace(\",\", \"\")\n",
    "    cur.execute(sql,[ISU_CD, ISU_SRT_CD, ISU_NM, ISU_ABBRV, ISU_ENG_NM, LIST_DD, MKT_TP_NM, SECUGRP_NM, SECT_TP_NM, KIND_STKCERT_TP_NM, PARVAL, LIST_SHRS] )\n",
    "\n",
    "conn.commit()\n",
    "conn.close()"
   ]
  },
  {
   "cell_type": "code",
   "execution_count": 64,
   "id": "966edbbd",
   "metadata": {},
   "outputs": [
    {
     "data": {
      "text/plain": [
       "12"
      ]
     },
     "execution_count": 64,
     "metadata": {},
     "output_type": "execute_result"
    }
   ],
   "source": [
    "cur.execute('desc st_master')"
   ]
  },
  {
   "cell_type": "code",
   "execution_count": 65,
   "id": "579cea62",
   "metadata": {},
   "outputs": [
    {
     "data": {
      "text/plain": [
       "(('ISU_CD', 'varchar(12)', 'NO', '', None, ''),\n",
       " ('ISU_SRT_CD', 'varchar(10)', 'NO', 'PRI', None, ''),\n",
       " ('ISU_NM', 'varchar(100)', 'NO', '', None, ''),\n",
       " ('ISU_ABBRV', 'varchar(100)', 'NO', '', None, ''),\n",
       " ('ISU_ENG_NM', 'varchar(100)', 'NO', '', None, ''),\n",
       " ('LIST_DD', 'date', 'NO', '', None, ''),\n",
       " ('MKT_TP_NM', 'varchar(30)', 'NO', '', None, ''),\n",
       " ('SECUGRP_NM', 'varchar(30)', 'NO', '', None, ''),\n",
       " ('SECT_TP_NM', 'varchar(100)', 'NO', '', None, ''),\n",
       " ('KIND_STKCERT_TP_NM', 'varchar(30)', 'NO', '', None, ''),\n",
       " ('parval', 'float', 'YES', '', None, ''),\n",
       " ('LIST_SHRS', 'varchar(30)', 'NO', '', None, ''))"
      ]
     },
     "execution_count": 65,
     "metadata": {},
     "output_type": "execute_result"
    }
   ],
   "source": [
    "cur.fetchall()"
   ]
  }
 ],
 "metadata": {
  "kernelspec": {
   "display_name": "base",
   "language": "python",
   "name": "python3"
  },
  "language_info": {
   "codemirror_mode": {
    "name": "ipython",
    "version": 3
   },
   "file_extension": ".py",
   "mimetype": "text/x-python",
   "name": "python",
   "nbconvert_exporter": "python",
   "pygments_lexer": "ipython3",
   "version": "3.11.11"
  }
 },
 "nbformat": 4,
 "nbformat_minor": 5
}
