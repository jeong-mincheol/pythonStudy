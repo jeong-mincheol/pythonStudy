{
 "cells": [
  {
   "cell_type": "code",
   "execution_count": null,
   "id": "8a93ac9e",
   "metadata": {},
   "outputs": [],
   "source": [
    "# DB연결 (MySQL)\n",
    "import pymysql"
   ]
  },
  {
   "cell_type": "code",
   "execution_count": 9,
   "id": "2fae0fcb",
   "metadata": {},
   "outputs": [],
   "source": [
    "conn = pymysql.connect(host='127.0.0.1', user='play', passwd='123', database='sk17', port=3306)"
   ]
  },
  {
   "cell_type": "code",
   "execution_count": 10,
   "id": "f5204652",
   "metadata": {},
   "outputs": [],
   "source": [
    "cur = conn.cursor()"
   ]
  },
  {
   "cell_type": "code",
   "execution_count": 11,
   "id": "61eb7800",
   "metadata": {},
   "outputs": [
    {
     "data": {
      "text/plain": [
       "1"
      ]
     },
     "execution_count": 11,
     "metadata": {},
     "output_type": "execute_result"
    }
   ],
   "source": [
    "cur.execute(\"show tables\")"
   ]
  },
  {
   "cell_type": "code",
   "execution_count": 12,
   "id": "8119255b",
   "metadata": {},
   "outputs": [
    {
     "data": {
      "text/plain": [
       "(('stock_day',),)"
      ]
     },
     "execution_count": 12,
     "metadata": {},
     "output_type": "execute_result"
    }
   ],
   "source": [
    "cur.fetchall()"
   ]
  },
  {
   "cell_type": "code",
   "execution_count": 13,
   "id": "8c6c2e6e",
   "metadata": {},
   "outputs": [],
   "source": [
    "sql = \"INSERT INTO stock_day VALUES (%s, %s, %s, %s, %s, %s, %s)\""
   ]
  },
  {
   "cell_type": "code",
   "execution_count": 14,
   "id": "53efaee5",
   "metadata": {},
   "outputs": [
    {
     "data": {
      "text/plain": [
       "1"
      ]
     },
     "execution_count": 14,
     "metadata": {},
     "output_type": "execute_result"
    }
   ],
   "source": [
    "cur.execute(sql, ['2025-05-29', 123, 123, 123, 123, 123, 123])"
   ]
  },
  {
   "cell_type": "code",
   "execution_count": 15,
   "id": "32467c01",
   "metadata": {},
   "outputs": [],
   "source": [
    "conn.commit()"
   ]
  },
  {
   "cell_type": "code",
   "execution_count": 16,
   "id": "b97d4d7e",
   "metadata": {},
   "outputs": [],
   "source": [
    "import requests"
   ]
  },
  {
   "cell_type": "code",
   "execution_count": 30,
   "id": "509bcb87",
   "metadata": {},
   "outputs": [],
   "source": [
    "data = eval(requests.get(\"https://m.stock.naver.com/front-api/external/chart/domestic/info?symbol=068330&requestType=1&startTime=20231205&endTime=20250529&timeframe=day\").text.strip())"
   ]
  },
  {
   "cell_type": "code",
   "execution_count": null,
   "id": "79e64ea3",
   "metadata": {},
   "outputs": [],
   "source": [
    "# 사용자 함수 설계 \n",
    "# 종목코드, 시작날짜, 종료날짜 값을 받아서 \n",
    "# 네이버 주식 API 사용해서 DB에 데이터 넣기\n",
    "\n",
    "import pymysql\n",
    "import requests\n",
    "import datetime\n",
    "\n",
    "def stock_info_save(code, s_date, e_date):\n",
    "    conn = pymysql.connect(host='127.0.0.1', user='play', passwd='123', database='sk17', port=3306)\n",
    "    cur = conn.cursor()\n",
    "\n",
    "    data = eval(requests.get(f\"https://m.stock.naver.com/front-api/external/chart/domestic/info?symbol={code}&requestType=1&startTime={s_date}&endTime={e_date}&timeframe=day\").text.strip())\n",
    "\n",
    "    data.pop(0)\n",
    "\n",
    "    sql = \"INSERT INTO naver_day_stock VALUES (%s, %s, %s, %s, %s, %s, %s)\"\n",
    "\n",
    "    for x in data:\n",
    "        #cur.execute(sql, [code, datetime.datetime.strptime(x[0], '%Y%m%d').strftime(\"%Y-%m-%d\") , x[1], x[2], x[3], x[4], x[5]])\n",
    "        cur.execute(sql, [code, x[0], x[1], x[2], x[3], x[4], x[5]])\n",
    "\n",
    "    conn.commit()\n",
    "\n",
    "#stock_info_save('035720', '20250101', '20250525')\n"
   ]
  },
  {
   "cell_type": "code",
   "execution_count": 37,
   "id": "0dedb6f0",
   "metadata": {},
   "outputs": [],
   "source": [
    "stock_info_save('035720', '20250101', '20250525')"
   ]
  },
  {
   "cell_type": "code",
   "execution_count": 38,
   "id": "811024d9",
   "metadata": {},
   "outputs": [],
   "source": [
    "def get_stock(code, s_date, e_date):\n",
    "    data = eval(requests.get(f\"https://m.stock.naver.com/front-api/external/chart/domestic/info?symbol={code}&requestType=1&startTime={s_date}&endTime={e_date}&timeframe=day\").text.strip())\n",
    "    sql = \"insert into  naver_day_stock values (%s,%s,%s,%s,%s,%s,%s)\"\n",
    "    for x in data[1:]:\n",
    "        try:\n",
    "            cur.execute(sql, [code]  + x[:-1])\n",
    "        except Exception as e:\n",
    "            print(e)\n",
    "    conn.commit()"
   ]
  },
  {
   "cell_type": "code",
   "execution_count": null,
   "id": "74411af8",
   "metadata": {},
   "outputs": [],
   "source": []
  }
 ],
 "metadata": {
  "kernelspec": {
   "display_name": "base",
   "language": "python",
   "name": "python3"
  },
  "language_info": {
   "codemirror_mode": {
    "name": "ipython",
    "version": 3
   },
   "file_extension": ".py",
   "mimetype": "text/x-python",
   "name": "python",
   "nbconvert_exporter": "python",
   "pygments_lexer": "ipython3",
   "version": "3.11.11"
  }
 },
 "nbformat": 4,
 "nbformat_minor": 5
}
