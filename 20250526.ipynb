{
 "cells": [
  {
   "cell_type": "code",
   "execution_count": 1,
   "id": "133990a9",
   "metadata": {},
   "outputs": [],
   "source": [
    "a, b = (1,2)"
   ]
  },
  {
   "cell_type": "code",
   "execution_count": 2,
   "id": "2aee2c04",
   "metadata": {},
   "outputs": [
    {
     "data": {
      "text/plain": [
       "1"
      ]
     },
     "execution_count": 2,
     "metadata": {},
     "output_type": "execute_result"
    }
   ],
   "source": [
    "a"
   ]
  },
  {
   "cell_type": "code",
   "execution_count": null,
   "id": "ff91e1a9",
   "metadata": {},
   "outputs": [],
   "source": [
    "_, _ = (1,1) # _ 는 dummy 취급"
   ]
  },
  {
   "cell_type": "code",
   "execution_count": 3,
   "id": "101ff399",
   "metadata": {},
   "outputs": [],
   "source": [
    "def show_settings(**options): # 모든 키워드 인자를 options 딕셔너리로 받음\n",
    "    \"\"\"전달된 모든 키워드 인자를 설정으로 간주하고 출력합니다.\"\"\"\n",
    "    print(\"--- 설정 값 ---\")\n",
    "    if options:\n",
    "        for key, value in options.items():\n",
    "            print(f\"  {key} = {value}\")\n",
    "    else:\n",
    "        print(\"  (설정 값 없음)\")\n",
    "    print(\"---------------\")"
   ]
  },
  {
   "cell_type": "code",
   "execution_count": 4,
   "id": "46e97558",
   "metadata": {},
   "outputs": [
    {
     "name": "stdout",
     "output_type": "stream",
     "text": [
      "--- 설정 값 ---\n",
      "  theme = dark\n",
      "  font_size = 12\n",
      "  show_line_numbers = True\n",
      "---------------\n"
     ]
    }
   ],
   "source": [
    "show_settings(theme=\"dark\", font_size=12, show_line_numbers=True)"
   ]
  },
  {
   "cell_type": "code",
   "execution_count": null,
   "id": "b8194846",
   "metadata": {},
   "outputs": [
    {
     "data": {
      "text/plain": [
       "dict"
      ]
     },
     "execution_count": 5,
     "metadata": {},
     "output_type": "execute_result"
    }
   ],
   "source": [
    "empty_dict = {}\n",
    "type(empty_dict)"
   ]
  },
  {
   "cell_type": "code",
   "execution_count": null,
   "id": "9e4c6cea",
   "metadata": {},
   "outputs": [],
   "source": [
    "# 함수 정의 시 매개변수 이름 뒤에 콜론(:)과 예상 타입을 명시합니다(힌트).\n",
    "def send_greeting(name: str, message: str):\n",
    "    print(f\"{name}님, 메시지: {message}\")"
   ]
  },
  {
   "cell_type": "code",
   "execution_count": null,
   "id": "847bc781",
   "metadata": {},
   "outputs": [
    {
     "name": "stdout",
     "output_type": "stream",
     "text": [
      "1님, 메시지: 2\n"
     ]
    }
   ],
   "source": [
    "send_greeting(1,2) # type은 강제성이 없다."
   ]
  },
  {
   "cell_type": "code",
   "execution_count": 8,
   "id": "75d73310",
   "metadata": {},
   "outputs": [],
   "source": [
    "# 함수 정의 시 매개변수 목록 괄호 ) 뒤에 화살표(->)와 예상 반환 타입을 명시합니다.\n",
    "def calculate_average(a: float, b: float) -> float:\n",
    "    return (a + b) / 2"
   ]
  },
  {
   "cell_type": "code",
   "execution_count": 9,
   "id": "893825dd",
   "metadata": {},
   "outputs": [
    {
     "data": {
      "text/plain": [
       "1.65"
      ]
     },
     "execution_count": 9,
     "metadata": {},
     "output_type": "execute_result"
    }
   ],
   "source": [
    "calculate_average(1.2, 2.1)"
   ]
  },
  {
   "cell_type": "code",
   "execution_count": 10,
   "id": "9a631d1d",
   "metadata": {},
   "outputs": [
    {
     "data": {
      "text/plain": [
       "['__add__',\n",
       " '__class__',\n",
       " '__contains__',\n",
       " '__delattr__',\n",
       " '__dir__',\n",
       " '__doc__',\n",
       " '__eq__',\n",
       " '__format__',\n",
       " '__ge__',\n",
       " '__getattribute__',\n",
       " '__getitem__',\n",
       " '__getnewargs__',\n",
       " '__gt__',\n",
       " '__hash__',\n",
       " '__init__',\n",
       " '__init_subclass__',\n",
       " '__iter__',\n",
       " '__le__',\n",
       " '__len__',\n",
       " '__lt__',\n",
       " '__mod__',\n",
       " '__mul__',\n",
       " '__ne__',\n",
       " '__new__',\n",
       " '__reduce__',\n",
       " '__reduce_ex__',\n",
       " '__repr__',\n",
       " '__rmod__',\n",
       " '__rmul__',\n",
       " '__setattr__',\n",
       " '__sizeof__',\n",
       " '__str__',\n",
       " '__subclasshook__',\n",
       " 'capitalize',\n",
       " 'casefold',\n",
       " 'center',\n",
       " 'count',\n",
       " 'encode',\n",
       " 'endswith',\n",
       " 'expandtabs',\n",
       " 'find',\n",
       " 'format',\n",
       " 'format_map',\n",
       " 'index',\n",
       " 'isalnum',\n",
       " 'isalpha',\n",
       " 'isascii',\n",
       " 'isdecimal',\n",
       " 'isdigit',\n",
       " 'isidentifier',\n",
       " 'islower',\n",
       " 'isnumeric',\n",
       " 'isprintable',\n",
       " 'isspace',\n",
       " 'istitle',\n",
       " 'isupper',\n",
       " 'join',\n",
       " 'ljust',\n",
       " 'lower',\n",
       " 'lstrip',\n",
       " 'maketrans',\n",
       " 'partition',\n",
       " 'removeprefix',\n",
       " 'removesuffix',\n",
       " 'replace',\n",
       " 'rfind',\n",
       " 'rindex',\n",
       " 'rjust',\n",
       " 'rpartition',\n",
       " 'rsplit',\n",
       " 'rstrip',\n",
       " 'split',\n",
       " 'splitlines',\n",
       " 'startswith',\n",
       " 'strip',\n",
       " 'swapcase',\n",
       " 'title',\n",
       " 'translate',\n",
       " 'upper',\n",
       " 'zfill']"
      ]
     },
     "execution_count": 10,
     "metadata": {},
     "output_type": "execute_result"
    }
   ],
   "source": [
    "dir(str) # __속성__   //  행동"
   ]
  },
  {
   "cell_type": "code",
   "execution_count": 11,
   "id": "5128c36b",
   "metadata": {},
   "outputs": [],
   "source": [
    "# class 클래스이름:\n",
    "# class 안에 함수에 매개변수에는 self를 적어야한다(필수)\n",
    "class Node:\n",
    "    def __init__(self, data):\n",
    "        self.data= data\n",
    "        self.next_node = None\n",
    "    \n",
    "    def __str__(self):\n",
    "        return str(self.data)"
   ]
  },
  {
   "cell_type": "code",
   "execution_count": 12,
   "id": "c02d3d4c",
   "metadata": {},
   "outputs": [],
   "source": [
    "a = Node(\"차은우\")"
   ]
  },
  {
   "cell_type": "code",
   "execution_count": 13,
   "id": "6320f65d",
   "metadata": {},
   "outputs": [
    {
     "data": {
      "text/plain": [
       "<__main__.Node at 0x1ae9766ca60>"
      ]
     },
     "execution_count": 13,
     "metadata": {},
     "output_type": "execute_result"
    }
   ],
   "source": [
    "a"
   ]
  },
  {
   "cell_type": "code",
   "execution_count": 14,
   "id": "14c3383c",
   "metadata": {},
   "outputs": [
    {
     "name": "stdout",
     "output_type": "stream",
     "text": [
      "차은우\n"
     ]
    }
   ],
   "source": [
    "print(a)"
   ]
  },
  {
   "cell_type": "code",
   "execution_count": 17,
   "id": "a5406be4",
   "metadata": {},
   "outputs": [],
   "source": [
    "class Node2:\n",
    "    def __init__(self, data):\n",
    "        self.data= data\n",
    "        self.next_node = None\n",
    "    \n",
    "    # def __str__(self):\n",
    "    #     return str(self.data)"
   ]
  },
  {
   "cell_type": "code",
   "execution_count": 18,
   "id": "80d007ff",
   "metadata": {},
   "outputs": [],
   "source": [
    "a2 = Node2(\"차은우\")"
   ]
  },
  {
   "cell_type": "code",
   "execution_count": 19,
   "id": "71aa86fe",
   "metadata": {},
   "outputs": [
    {
     "name": "stdout",
     "output_type": "stream",
     "text": [
      "<__main__.Node2 object at 0x000001AE9766FD30>\n"
     ]
    }
   ],
   "source": [
    "print(a2)"
   ]
  },
  {
   "cell_type": "code",
   "execution_count": 20,
   "id": "c9517cc4",
   "metadata": {},
   "outputs": [],
   "source": [
    "b = [1,2,3]"
   ]
  },
  {
   "cell_type": "code",
   "execution_count": 22,
   "id": "8252bd8a",
   "metadata": {},
   "outputs": [
    {
     "data": {
      "text/plain": [
       "2"
      ]
     },
     "execution_count": 22,
     "metadata": {},
     "output_type": "execute_result"
    }
   ],
   "source": [
    "b.__getitem__(1)"
   ]
  },
  {
   "cell_type": "code",
   "execution_count": 23,
   "id": "af095ac3",
   "metadata": {},
   "outputs": [
    {
     "data": {
      "text/plain": [
       "3"
      ]
     },
     "execution_count": 23,
     "metadata": {},
     "output_type": "execute_result"
    }
   ],
   "source": [
    "len(b)"
   ]
  },
  {
   "cell_type": "code",
   "execution_count": 24,
   "id": "a21f7009",
   "metadata": {},
   "outputs": [
    {
     "data": {
      "text/plain": [
       "3"
      ]
     },
     "execution_count": 24,
     "metadata": {},
     "output_type": "execute_result"
    }
   ],
   "source": [
    "b.__len__()"
   ]
  },
  {
   "cell_type": "code",
   "execution_count": 25,
   "id": "c194400a",
   "metadata": {},
   "outputs": [],
   "source": [
    "# Node class\n",
    "class Node:\n",
    "    def __init__(self, data):\n",
    "        self.data = data\n",
    "        self.next = None\n",
    "\n",
    "# Linked List class\n",
    "class LinkedList:\n",
    "    def __init__(self):\n",
    "        self.head = None\n",
    "\n",
    "    # Append a new node to the end of the list\n",
    "    def append(self, data):\n",
    "        new_node = Node(data)\n",
    "        if not self.head:\n",
    "            self.head = new_node\n",
    "            return\n",
    "        last_node = self.head\n",
    "        while last_node.next:\n",
    "            last_node = last_node.next\n",
    "        last_node.next = new_node\n",
    "\n",
    "    # Prepend a new node to the beginning of the list\n",
    "    def prepend(self, data):\n",
    "        new_node = Node(data)\n",
    "        new_node.next = self.head\n",
    "        self.head = new_node\n",
    "\n",
    "    # Delete a node with the given data\n",
    "    def delete(self, data):\n",
    "        if not self.head:\n",
    "            return\n",
    "\n",
    "        if self.head.data == data:\n",
    "            self.head = self.head.next\n",
    "            return\n",
    "\n",
    "        current_node = self.head\n",
    "        while current_node.next and current_node.next.data != data:\n",
    "            current_node = current_node.next\n",
    "\n",
    "        if current_node.next:\n",
    "            current_node.next = current_node.next.next\n",
    "\n",
    "    # Display the linked list\n",
    "    def display(self):\n",
    "        elements = []\n",
    "        current_node = self.head\n",
    "        while current_node:\n",
    "            elements.append(str(current_node.data))\n",
    "            current_node = current_node.next\n",
    "        return \" -> \".join(elements) if elements else \"비어 있음\"\n",
    "\n"
   ]
  },
  {
   "cell_type": "code",
   "execution_count": 26,
   "id": "1744d353",
   "metadata": {},
   "outputs": [],
   "source": [
    "mylink = LinkedList()"
   ]
  },
  {
   "cell_type": "code",
   "execution_count": 28,
   "id": "f06bbeb9",
   "metadata": {},
   "outputs": [],
   "source": [
    "mylink.append('정민철')"
   ]
  },
  {
   "cell_type": "code",
   "execution_count": 31,
   "id": "d35c4652",
   "metadata": {},
   "outputs": [],
   "source": [
    "mylink.append(\"김민규\")"
   ]
  },
  {
   "cell_type": "code",
   "execution_count": 32,
   "id": "bb998f7e",
   "metadata": {},
   "outputs": [
    {
     "data": {
      "text/plain": [
       "'정민철 -> 김민규'"
      ]
     },
     "execution_count": 32,
     "metadata": {},
     "output_type": "execute_result"
    }
   ],
   "source": [
    "mylink.display()"
   ]
  },
  {
   "cell_type": "code",
   "execution_count": 34,
   "id": "f3e36cf7",
   "metadata": {},
   "outputs": [],
   "source": [
    "mylink.append(\"차은우\")"
   ]
  },
  {
   "cell_type": "code",
   "execution_count": 36,
   "id": "c16c9ccc",
   "metadata": {},
   "outputs": [
    {
     "name": "stdout",
     "output_type": "stream",
     "text": [
      "정민철, 임가은, 이세진, "
     ]
    }
   ],
   "source": [
    "for x in ['정민철', '임가은', '이세진']:\n",
    "    print(x, end=\", \")"
   ]
  },
  {
   "cell_type": "code",
   "execution_count": 37,
   "id": "16674792",
   "metadata": {},
   "outputs": [
    {
     "data": {
      "text/plain": [
       "'정민철, 임가은, 이세진'"
      ]
     },
     "execution_count": 37,
     "metadata": {},
     "output_type": "execute_result"
    }
   ],
   "source": [
    "\", \".join(['정민철', '임가은', '이세진'])"
   ]
  },
  {
   "cell_type": "code",
   "execution_count": 38,
   "id": "9e34a373",
   "metadata": {},
   "outputs": [
    {
     "data": {
      "text/plain": [
       "'c:/workspace/test'"
      ]
     },
     "execution_count": 38,
     "metadata": {},
     "output_type": "execute_result"
    }
   ],
   "source": [
    "\"/\".join(['c:', 'workspace','test'])"
   ]
  },
  {
   "cell_type": "code",
   "execution_count": 39,
   "id": "fac6451c",
   "metadata": {},
   "outputs": [],
   "source": [
    "elements = ['차은우', '원빈', '이나영']"
   ]
  },
  {
   "cell_type": "code",
   "execution_count": 40,
   "id": "d5346068",
   "metadata": {},
   "outputs": [
    {
     "data": {
      "text/plain": [
       "'차은우 -> 원빈 -> 이나영'"
      ]
     },
     "execution_count": 40,
     "metadata": {},
     "output_type": "execute_result"
    }
   ],
   "source": [
    "# 조건문이 true이면 왼쪽 값을 실행행\n",
    "\" -> \".join(elements) if elements else \"비어 있음\""
   ]
  },
  {
   "cell_type": "code",
   "execution_count": 46,
   "id": "fa8f3f31",
   "metadata": {},
   "outputs": [],
   "source": [
    "#지도 가져오기기\n",
    "#\n",
    "# pip install folium"
   ]
  },
  {
   "cell_type": "code",
   "execution_count": 44,
   "id": "c09d5035",
   "metadata": {},
   "outputs": [],
   "source": [
    "import folium\n",
    "seoul = folium.Map(location=[37.55, 126.98], zoom_start=12)"
   ]
  },
  {
   "cell_type": "code",
   "execution_count": 61,
   "id": "81694b24",
   "metadata": {},
   "outputs": [],
   "source": [
    "import requests \n",
    "url = \"https://www.starbucks.co.kr/store/getStore.do?r=86N465IIB2\"\n",
    "payload = {\"in_biz_cds\":\"0\",\n",
    "\"in_scodes\":\"0\",\n",
    "\"ins_lat\":\"37.4730836\",\n",
    "\"ins_lng\":\"126.8788276\",\n",
    "\"search_text\":\"\",\n",
    "\"p_sido_cd\":\"01\",\n",
    "\"p_gugun_cd\":\"\",\n",
    "\"in_distance\":\"0\",\n",
    "\"in_biz_cd\":\"\",\n",
    "\"isError\":\"true\",\n",
    "\"searchType\":\"C\",\n",
    "\"set_date\":\"\",\n",
    "\"all_store\":\"0\",\n",
    "\"T03\":\"0\",\n",
    "\"T01\":\"0\",\n",
    "\"T27\":\"0\",\n",
    "\"T12\":\"0\",\n",
    "\"T09\":\"0\",\n",
    "\"T30\":\"0\",\n",
    "\"T05\":\"0\",\n",
    "\"T22\":\"0\",\n",
    "\"T21\":\"0\",\n",
    "\"T36\":\"0\",\n",
    "\"T43\":\"0\",\n",
    "\"Z9999\":\"0\",\n",
    "\"T64\":\"0\",\n",
    "\"T66\":\"0\",\n",
    "\"P02\":\"0\",\n",
    "\"P10\":\"0\",\n",
    "\"P50\":\"0\",\n",
    "\"P20\":\"0\",\n",
    "\"P60\":\"0\",\n",
    "\"P30\":\"0\",\n",
    "\"P70\":\"0\",\n",
    "\"P40\":\"0\",\n",
    "\"P80\":\"0\",\n",
    "\"whcroad_yn\":\"0\",\n",
    "\"P90\":\"0\",\n",
    "\"P01\":\"0\",\n",
    "\"new_bool\":\"0\",\n",
    "\"iend\":\"1000\",\n",
    "\"rndCod\":\"P22L4TV1T8\"}\n",
    "result = requests.post(url, data=payload)\n",
    "star = result.json()"
   ]
  },
  {
   "cell_type": "code",
   "execution_count": 58,
   "id": "9457991b",
   "metadata": {},
   "outputs": [],
   "source": [
    "for store in star['list']:\n",
    "    folium.Marker([store['lat'], store['lot']], popup=store['s_name']).add_to(seoul)"
   ]
  },
  {
   "cell_type": "code",
   "execution_count": 60,
   "id": "7552ba27",
   "metadata": {},
   "outputs": [],
   "source": [
    "seoul.save(\"./starbucks.html\")"
   ]
  },
  {
   "cell_type": "code",
   "execution_count": null,
   "id": "f80c535f",
   "metadata": {},
   "outputs": [],
   "source": [
    "# 직렬화\n",
    "import pickle\n",
    "with open(\"./starbucks.pkl\", \"wb\") as f:\n",
    "    pickle.dump(result, f)"
   ]
  }
 ],
 "metadata": {
  "kernelspec": {
   "display_name": "base",
   "language": "python",
   "name": "python3"
  },
  "language_info": {
   "codemirror_mode": {
    "name": "ipython",
    "version": 3
   },
   "file_extension": ".py",
   "mimetype": "text/x-python",
   "name": "python",
   "nbconvert_exporter": "python",
   "pygments_lexer": "ipython3",
   "version": "3.10.16"
  }
 },
 "nbformat": 4,
 "nbformat_minor": 5
}
